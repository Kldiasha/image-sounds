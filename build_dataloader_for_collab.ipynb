{
 "cells": [
  {
   "attachments": {},
   "cell_type": "markdown",
   "metadata": {},
   "source": [
    "#### In this document we want to create a script that will generate dataloaders\n",
    "1. This is important because we have size constraints on collab\n",
    "2. Also, it is good to have quick (repeatable and variable) dataloaders"
   ]
  },
  {
   "cell_type": "code",
   "execution_count": 26,
   "metadata": {},
   "outputs": [],
   "source": [
    "\n",
    "import librosa.display\n",
    "from numba import core\n",
    "import matplotlib.pyplot as plt\n",
    "import numpy as np\n",
    "import os\n",
    "import random\n",
    "import torch\n",
    "import pickle\n",
    "from torch.utils.data import Dataset, DataLoader\n",
    "from sklearn.model_selection import train_test_split\n",
    "\n",
    "\n",
    "# parameters to change\n",
    "video_files=[\n",
    "    'a_oqcg0hvpo',\n",
    "    'Gz99TTxmvls',\n",
    "    'ubz5lz_l7IY',\n",
    "    'LydoK7hXKbs',\n",
    "]\n",
    "\n",
    "ROOT_FILENAME = 'Dataloader'\n",
    "SEED = 1 \n",
    "BATCH_SIZE = 20\n",
    "DATA_PER_FILE = 50\n",
    "\n",
    "\n",
    "# globals we use below\n",
    "tensors = {}\n",
    "X = []\n",
    "Y = []\n"
   ]
  },
  {
   "cell_type": "code",
   "execution_count": 27,
   "metadata": {},
   "outputs": [
    {
     "name": "stdout",
     "output_type": "stream",
     "text": [
      "a_oqcg0hvpo\n",
      "Gz99TTxmvls\n",
      "ubz5lz_l7IY\n",
      "LydoK7hXKbs\n"
     ]
    }
   ],
   "source": [
    "def padd_with_zeros(twod_numpy, w, h):\n",
    "    old_w = twod_numpy.shape[0]\n",
    "    old_h = twod_numpy.shape[1]\n",
    "    h = max(old_h, h)\n",
    "    w = max(old_w, w)\n",
    "    lx = (w - old_w) // 2\n",
    "    rx = w - lx - old_w\n",
    "    ly = (h - old_h) // 2\n",
    "    ry = h - ly - old_h\n",
    "    return np.pad(twod_numpy, pad_width=((lx, rx), (ly, ry)), mode='constant')\n",
    "\n",
    "def process_input_file(filename):\n",
    "\n",
    "    waveform, sample_rate = librosa.load(filename)\n",
    "\n",
    "    n_fft = 512  # Number of FFT points (window size)\n",
    "    hop_length = 1024  # Hop length (frame shift)\n",
    "\n",
    "    # Compute the STFT\n",
    "    stft = librosa.stft(waveform, n_fft=n_fft, hop_length=hop_length)\n",
    "\n",
    "    padded = padd_with_zeros(stft, 260, 90)\n",
    "    return  padded\n",
    "\n",
    "def get_prediction(video_name, time_stamp):\n",
    "    global tensors\n",
    "    local_name = f'{video_name}{time_stamp[:3]}'\n",
    "    if local_name not in tensors:\n",
    "        t = torch.load(f'./resnet_predictions/{video_name}/{local_name}.pth')\n",
    "        tensors[local_name] = t\n",
    "    else:\n",
    "        t = tensors[local_name]\n",
    "    return t[f'frame{time_stamp}']\n",
    "\n",
    "for video_name in video_files:\n",
    "    subdir = os.listdir('./data/' + video_name + '-audio')\n",
    "    random.seed(SEED)\n",
    "    files = random.choices(subdir, k=DATA_PER_FILE)\n",
    "    for file in files:\n",
    "        time_stamp = file[5:file.find('.')]\n",
    "        label = video_name + '-' + time_stamp\n",
    "        audio_data = process_input_file(f'./data/{video_name}-audio/{file}')\n",
    "        classification_res = get_prediction(video_name, time_stamp)\n",
    "\n",
    "        X.append(np.abs(audio_data))\n",
    "        Y.append(classification_res)\n",
    "    print(video_name)\n"
   ]
  },
  {
   "cell_type": "code",
   "execution_count": 28,
   "metadata": {},
   "outputs": [],
   "source": [
    "class CustomDataset(Dataset):\n",
    "    def __init__(self, X, Y):\n",
    "        self.X = X\n",
    "        self.Y = Y\n",
    "\n",
    "    def __len__(self):\n",
    "        return len(self.X)\n",
    "\n",
    "    def __getitem__(self, index):\n",
    "        x = self.X[index]\n",
    "        y = self.Y[index]\n",
    "        return x, y\n",
    "\n",
    "# Split into train and test sets\n",
    "X_train, X_test, y_train, y_test = train_test_split(X, Y, train_size=0.8, shuffle=True, random_state=SEED)\n",
    "\n",
    "# Create custom datasets\n",
    "train_dataset = CustomDataset(X_train, y_train)\n",
    "test_dataset = CustomDataset(X_test, y_test)\n",
    "\n",
    "# Create dataloaders\n",
    "train_loader = DataLoader(train_dataset, shuffle=True, batch_size=BATCH_SIZE)\n",
    "test_loader = DataLoader(test_dataset, shuffle=False, batch_size=BATCH_SIZE)\n",
    "\n",
    "# Save train and test loaders to a file\n",
    "pickle_file = 'Dataloaders/' + ROOT_FILENAME + '_BS' + str(BATCH_SIZE) + '_DPF' + str(DATA_PER_FILE) + '_S' + str(SEED) + '.pkl'\n",
    "os.makedirs('Dataloaders', exist_ok=True)\n",
    "with open(pickle_file, 'wb') as file:\n",
    "    pickle.dump((train_loader, test_loader), file)"
   ]
  },
  {
   "cell_type": "code",
   "execution_count": 25,
   "metadata": {},
   "outputs": [
    {
     "name": "stdout",
     "output_type": "stream",
     "text": [
      "torch.Size([40, 260, 90])\n"
     ]
    }
   ],
   "source": [
    "with open(pickle_file, 'rb') as file:\n",
    "    train_loader, test_loader = pickle.load(file)\n",
    "\n",
    "datasize = next(iter(train_loader))[0].shape\n",
    "print(datasize)"
   ]
  },
  {
   "cell_type": "code",
   "execution_count": null,
   "metadata": {},
   "outputs": [],
   "source": []
  }
 ],
 "metadata": {
  "kernelspec": {
   "display_name": "cv",
   "language": "python",
   "name": "python3"
  },
  "language_info": {
   "codemirror_mode": {
    "name": "ipython",
    "version": 3
   },
   "file_extension": ".py",
   "mimetype": "text/x-python",
   "name": "python",
   "nbconvert_exporter": "python",
   "pygments_lexer": "ipython3",
   "version": "3.10.9"
  },
  "orig_nbformat": 4
 },
 "nbformat": 4,
 "nbformat_minor": 2
}
